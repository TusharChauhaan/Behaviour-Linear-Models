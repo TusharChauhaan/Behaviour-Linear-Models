{
 "cells": [
  {
   "cell_type": "markdown",
   "metadata": {
    "id": "86Tvnj5UblTy"
   },
   "source": [
    "## Task-D: Collinear features and their effect on linear models"
   ]
  },
  {
   "cell_type": "code",
   "execution_count": null,
   "metadata": {
    "id": "qn_eOn2EblT3"
   },
   "outputs": [],
   "source": [
    "%matplotlib inline\n",
    "import warnings\n",
    "warnings.filterwarnings(\"ignore\")\n",
    "import pandas as pd\n",
    "import numpy as np\n",
    "from sklearn.datasets import load_iris\n",
    "from sklearn.linear_model import SGDClassifier\n",
    "from sklearn.model_selection import GridSearchCV\n",
    "import seaborn as sns\n",
    "import matplotlib.pyplot as plt"
   ]
  },
  {
   "cell_type": "code",
   "execution_count": null,
   "metadata": {
    "id": "VMoYWIayblUB"
   },
   "outputs": [],
   "source": [
    "data = pd.read_csv('task_d.csv')"
   ]
  },
  {
   "cell_type": "code",
   "execution_count": null,
   "metadata": {
    "colab": {
     "base_uri": "https://localhost:8080/",
     "height": 206
    },
    "id": "RfStXG4tblUI",
    "outputId": "5b6c78cb-ee4d-46c9-c7b2-976dcaec8f64"
   },
   "outputs": [
    {
     "data": {
      "text/html": [
       "\n",
       "  <div id=\"df-e06a4ad1-044a-444a-a754-b3a5cd396d72\">\n",
       "    <div class=\"colab-df-container\">\n",
       "      <div>\n",
       "<style scoped>\n",
       "    .dataframe tbody tr th:only-of-type {\n",
       "        vertical-align: middle;\n",
       "    }\n",
       "\n",
       "    .dataframe tbody tr th {\n",
       "        vertical-align: top;\n",
       "    }\n",
       "\n",
       "    .dataframe thead th {\n",
       "        text-align: right;\n",
       "    }\n",
       "</style>\n",
       "<table border=\"1\" class=\"dataframe\">\n",
       "  <thead>\n",
       "    <tr style=\"text-align: right;\">\n",
       "      <th></th>\n",
       "      <th>x</th>\n",
       "      <th>y</th>\n",
       "      <th>z</th>\n",
       "      <th>x*x</th>\n",
       "      <th>2*y</th>\n",
       "      <th>2*z+3*x*x</th>\n",
       "      <th>w</th>\n",
       "      <th>target</th>\n",
       "    </tr>\n",
       "  </thead>\n",
       "  <tbody>\n",
       "    <tr>\n",
       "      <th>0</th>\n",
       "      <td>-0.581066</td>\n",
       "      <td>0.841837</td>\n",
       "      <td>-1.012978</td>\n",
       "      <td>-0.604025</td>\n",
       "      <td>0.841837</td>\n",
       "      <td>-0.665927</td>\n",
       "      <td>-0.536277</td>\n",
       "      <td>0</td>\n",
       "    </tr>\n",
       "    <tr>\n",
       "      <th>1</th>\n",
       "      <td>-0.894309</td>\n",
       "      <td>-0.207835</td>\n",
       "      <td>-1.012978</td>\n",
       "      <td>-0.883052</td>\n",
       "      <td>-0.207835</td>\n",
       "      <td>-0.917054</td>\n",
       "      <td>-0.522364</td>\n",
       "      <td>0</td>\n",
       "    </tr>\n",
       "    <tr>\n",
       "      <th>2</th>\n",
       "      <td>-1.207552</td>\n",
       "      <td>0.212034</td>\n",
       "      <td>-1.082312</td>\n",
       "      <td>-1.150918</td>\n",
       "      <td>0.212034</td>\n",
       "      <td>-1.166507</td>\n",
       "      <td>0.205738</td>\n",
       "      <td>0</td>\n",
       "    </tr>\n",
       "    <tr>\n",
       "      <th>3</th>\n",
       "      <td>-1.364174</td>\n",
       "      <td>0.002099</td>\n",
       "      <td>-0.943643</td>\n",
       "      <td>-1.280666</td>\n",
       "      <td>0.002099</td>\n",
       "      <td>-1.266540</td>\n",
       "      <td>-0.665720</td>\n",
       "      <td>0</td>\n",
       "    </tr>\n",
       "    <tr>\n",
       "      <th>4</th>\n",
       "      <td>-0.737687</td>\n",
       "      <td>1.051772</td>\n",
       "      <td>-1.012978</td>\n",
       "      <td>-0.744934</td>\n",
       "      <td>1.051772</td>\n",
       "      <td>-0.792746</td>\n",
       "      <td>-0.735054</td>\n",
       "      <td>0</td>\n",
       "    </tr>\n",
       "  </tbody>\n",
       "</table>\n",
       "</div>\n",
       "      <button class=\"colab-df-convert\" onclick=\"convertToInteractive('df-e06a4ad1-044a-444a-a754-b3a5cd396d72')\"\n",
       "              title=\"Convert this dataframe to an interactive table.\"\n",
       "              style=\"display:none;\">\n",
       "        \n",
       "  <svg xmlns=\"http://www.w3.org/2000/svg\" height=\"24px\"viewBox=\"0 0 24 24\"\n",
       "       width=\"24px\">\n",
       "    <path d=\"M0 0h24v24H0V0z\" fill=\"none\"/>\n",
       "    <path d=\"M18.56 5.44l.94 2.06.94-2.06 2.06-.94-2.06-.94-.94-2.06-.94 2.06-2.06.94zm-11 1L8.5 8.5l.94-2.06 2.06-.94-2.06-.94L8.5 2.5l-.94 2.06-2.06.94zm10 10l.94 2.06.94-2.06 2.06-.94-2.06-.94-.94-2.06-.94 2.06-2.06.94z\"/><path d=\"M17.41 7.96l-1.37-1.37c-.4-.4-.92-.59-1.43-.59-.52 0-1.04.2-1.43.59L10.3 9.45l-7.72 7.72c-.78.78-.78 2.05 0 2.83L4 21.41c.39.39.9.59 1.41.59.51 0 1.02-.2 1.41-.59l7.78-7.78 2.81-2.81c.8-.78.8-2.07 0-2.86zM5.41 20L4 18.59l7.72-7.72 1.47 1.35L5.41 20z\"/>\n",
       "  </svg>\n",
       "      </button>\n",
       "      \n",
       "  <style>\n",
       "    .colab-df-container {\n",
       "      display:flex;\n",
       "      flex-wrap:wrap;\n",
       "      gap: 12px;\n",
       "    }\n",
       "\n",
       "    .colab-df-convert {\n",
       "      background-color: #E8F0FE;\n",
       "      border: none;\n",
       "      border-radius: 50%;\n",
       "      cursor: pointer;\n",
       "      display: none;\n",
       "      fill: #1967D2;\n",
       "      height: 32px;\n",
       "      padding: 0 0 0 0;\n",
       "      width: 32px;\n",
       "    }\n",
       "\n",
       "    .colab-df-convert:hover {\n",
       "      background-color: #E2EBFA;\n",
       "      box-shadow: 0px 1px 2px rgba(60, 64, 67, 0.3), 0px 1px 3px 1px rgba(60, 64, 67, 0.15);\n",
       "      fill: #174EA6;\n",
       "    }\n",
       "\n",
       "    [theme=dark] .colab-df-convert {\n",
       "      background-color: #3B4455;\n",
       "      fill: #D2E3FC;\n",
       "    }\n",
       "\n",
       "    [theme=dark] .colab-df-convert:hover {\n",
       "      background-color: #434B5C;\n",
       "      box-shadow: 0px 1px 3px 1px rgba(0, 0, 0, 0.15);\n",
       "      filter: drop-shadow(0px 1px 2px rgba(0, 0, 0, 0.3));\n",
       "      fill: #FFFFFF;\n",
       "    }\n",
       "  </style>\n",
       "\n",
       "      <script>\n",
       "        const buttonEl =\n",
       "          document.querySelector('#df-e06a4ad1-044a-444a-a754-b3a5cd396d72 button.colab-df-convert');\n",
       "        buttonEl.style.display =\n",
       "          google.colab.kernel.accessAllowed ? 'block' : 'none';\n",
       "\n",
       "        async function convertToInteractive(key) {\n",
       "          const element = document.querySelector('#df-e06a4ad1-044a-444a-a754-b3a5cd396d72');\n",
       "          const dataTable =\n",
       "            await google.colab.kernel.invokeFunction('convertToInteractive',\n",
       "                                                     [key], {});\n",
       "          if (!dataTable) return;\n",
       "\n",
       "          const docLinkHtml = 'Like what you see? Visit the ' +\n",
       "            '<a target=\"_blank\" href=https://colab.research.google.com/notebooks/data_table.ipynb>data table notebook</a>'\n",
       "            + ' to learn more about interactive tables.';\n",
       "          element.innerHTML = '';\n",
       "          dataTable['output_type'] = 'display_data';\n",
       "          await google.colab.output.renderOutput(dataTable, element);\n",
       "          const docLink = document.createElement('div');\n",
       "          docLink.innerHTML = docLinkHtml;\n",
       "          element.appendChild(docLink);\n",
       "        }\n",
       "      </script>\n",
       "    </div>\n",
       "  </div>\n",
       "  "
      ],
      "text/plain": [
       "          x         y         z  ...  2*z+3*x*x         w  target\n",
       "0 -0.581066  0.841837 -1.012978  ...  -0.665927 -0.536277       0\n",
       "1 -0.894309 -0.207835 -1.012978  ...  -0.917054 -0.522364       0\n",
       "2 -1.207552  0.212034 -1.082312  ...  -1.166507  0.205738       0\n",
       "3 -1.364174  0.002099 -0.943643  ...  -1.266540 -0.665720       0\n",
       "4 -0.737687  1.051772 -1.012978  ...  -0.792746 -0.735054       0\n",
       "\n",
       "[5 rows x 8 columns]"
      ]
     },
     "execution_count": 6,
     "metadata": {},
     "output_type": "execute_result"
    }
   ],
   "source": [
    "data.head()"
   ]
  },
  {
   "cell_type": "code",
   "execution_count": null,
   "metadata": {
    "id": "JIIuomCkblUP"
   },
   "outputs": [],
   "source": [
    "X = data.drop(['target'], axis=1).values\n",
    "Y = data['target'].values"
   ]
  },
  {
   "cell_type": "code",
   "execution_count": null,
   "metadata": {
    "colab": {
     "base_uri": "https://localhost:8080/"
    },
    "id": "ycKXoRngdzf_",
    "outputId": "c2002643-43fe-436d-f642-3b087f02d840"
   },
   "outputs": [
    {
     "name": "stdout",
     "output_type": "stream",
     "text": [
      "[0 0 0 0 0 0 0 0 0 0 0 0 0 0 0 0 0 0 0 0 0 0 0 0 0 0 0 0 0 0 0 0 0 0 0 0 0\n",
      " 0 0 0 0 0 0 0 0 0 0 0 0 0 1 1 1 1 1 1 1 1 1 1 1 1 1 1 1 1 1 1 1 1 1 1 1 1\n",
      " 1 1 1 1 1 1 1 1 1 1 1 1 1 1 1 1 1 1 1 1 1 1 1 1 1 1]\n"
     ]
    }
   ],
   "source": [
    "print(Y)"
   ]
  },
  {
   "cell_type": "markdown",
   "metadata": {
    "id": "Ydm98u3EblUU"
   },
   "source": [
    "### Doing perturbation test to check the presence of collinearity  \n",
    "\n",
    "#### Task: 1 Logistic Regression\n",
    "<pre>\n",
    "\n",
    "\n",
    "1. <b>Finding the Correlation between the features</b>\n",
    "    a. check the correlation between the features\n",
    "    b. plot heat map of correlation matrix using seaborn heatmap\n",
    "2. <b>Finding the best model for the given data</b>\n",
    "    a. Train Logistic regression on data(X,Y) that we have created in the above cell\n",
    "    b. Find the best hyper prameter alpha with hyper parameter tuning using k-fold cross validation (grid search CV or         \n",
    "    random search CV make sure you choose the alpha in log space)\n",
    "    c. Creat a new Logistic regression with the best alpha\n",
    "    (search for how to get the best hyper parameter value), name the best model as 'best_model'\n",
    "    \n",
    "3. <b>Getting the weights with the original data</b>\n",
    "    a. train the 'best_model' with X, Y\n",
    "    b. Check the accuracy of the model 'best_model_accuracy'\n",
    "    c. Get the weights W using best_model.coef_\n",
    "\n",
    "4. <b>Modifying original data</b>\n",
    "    a. Add a noise(order of 10^-2) to each element of X \n",
    "    and get the new data set X' (X' = X + e)\n",
    "    b. Train the same 'best_model' with data (X', Y)\n",
    "    c. Check the accuracy of the model 'best_model_accuracy_edited'\n",
    "    d. Get the weights W' using best_model.coef_\n",
    "    \n",
    "5. <b> Checking deviations in metric and weights </b>\n",
    "    a. find the difference between 'best_model_accuracy_edited' and 'best_model_accuracy'\n",
    "    b. find the absolute change between each value of W and W' ==> |(W-W')|\n",
    "    c. print the top 4 features which have higher % change in weights \n",
    "    compare to the other feature\n",
    "\n",
    "</pre>\n",
    "\n",
    "#### Task: 2 Linear SVM\n",
    "\n",
    "<pre>\n",
    "1. Do the same steps (2, 3, 4, 5) we have done in the above task 1.\n",
    "</pre>\n",
    "\n",
    "<strong><font color='red'>Do write the observations based on the results you get from the deviations of weights in both Logistic Regression and linear SVM</font></strong>"
   ]
  },
  {
   "cell_type": "markdown",
   "metadata": {
    "id": "9MMOG5UTljMd"
   },
   "source": [
    "1.1"
   ]
  },
  {
   "cell_type": "code",
   "execution_count": null,
   "metadata": {
    "colab": {
     "base_uri": "https://localhost:8080/",
     "height": 300
    },
    "id": "TSF3IUpglh7T",
    "outputId": "86783174-9941-4b3c-d835-af665dae7a3e"
   },
   "outputs": [
    {
     "data": {
      "text/html": [
       "\n",
       "  <div id=\"df-0e774684-ce1d-4336-9a9d-542bc5600c4b\">\n",
       "    <div class=\"colab-df-container\">\n",
       "      <div>\n",
       "<style scoped>\n",
       "    .dataframe tbody tr th:only-of-type {\n",
       "        vertical-align: middle;\n",
       "    }\n",
       "\n",
       "    .dataframe tbody tr th {\n",
       "        vertical-align: top;\n",
       "    }\n",
       "\n",
       "    .dataframe thead th {\n",
       "        text-align: right;\n",
       "    }\n",
       "</style>\n",
       "<table border=\"1\" class=\"dataframe\">\n",
       "  <thead>\n",
       "    <tr style=\"text-align: right;\">\n",
       "      <th></th>\n",
       "      <th>x</th>\n",
       "      <th>y</th>\n",
       "      <th>z</th>\n",
       "      <th>x*x</th>\n",
       "      <th>2*y</th>\n",
       "      <th>2*z+3*x*x</th>\n",
       "      <th>w</th>\n",
       "      <th>target</th>\n",
       "    </tr>\n",
       "  </thead>\n",
       "  <tbody>\n",
       "    <tr>\n",
       "      <th>x</th>\n",
       "      <td>1.000000</td>\n",
       "      <td>-0.205926</td>\n",
       "      <td>0.812458</td>\n",
       "      <td>0.997947</td>\n",
       "      <td>-0.205926</td>\n",
       "      <td>0.996252</td>\n",
       "      <td>0.583277</td>\n",
       "      <td>0.728290</td>\n",
       "    </tr>\n",
       "    <tr>\n",
       "      <th>y</th>\n",
       "      <td>-0.205926</td>\n",
       "      <td>1.000000</td>\n",
       "      <td>-0.602663</td>\n",
       "      <td>-0.209289</td>\n",
       "      <td>1.000000</td>\n",
       "      <td>-0.261123</td>\n",
       "      <td>-0.401790</td>\n",
       "      <td>-0.690684</td>\n",
       "    </tr>\n",
       "    <tr>\n",
       "      <th>z</th>\n",
       "      <td>0.812458</td>\n",
       "      <td>-0.602663</td>\n",
       "      <td>1.000000</td>\n",
       "      <td>0.807137</td>\n",
       "      <td>-0.602663</td>\n",
       "      <td>0.847163</td>\n",
       "      <td>0.674486</td>\n",
       "      <td>0.969990</td>\n",
       "    </tr>\n",
       "    <tr>\n",
       "      <th>x*x</th>\n",
       "      <td>0.997947</td>\n",
       "      <td>-0.209289</td>\n",
       "      <td>0.807137</td>\n",
       "      <td>1.000000</td>\n",
       "      <td>-0.209289</td>\n",
       "      <td>0.997457</td>\n",
       "      <td>0.583803</td>\n",
       "      <td>0.719570</td>\n",
       "    </tr>\n",
       "    <tr>\n",
       "      <th>2*y</th>\n",
       "      <td>-0.205926</td>\n",
       "      <td>1.000000</td>\n",
       "      <td>-0.602663</td>\n",
       "      <td>-0.209289</td>\n",
       "      <td>1.000000</td>\n",
       "      <td>-0.261123</td>\n",
       "      <td>-0.401790</td>\n",
       "      <td>-0.690684</td>\n",
       "    </tr>\n",
       "    <tr>\n",
       "      <th>2*z+3*x*x</th>\n",
       "      <td>0.996252</td>\n",
       "      <td>-0.261123</td>\n",
       "      <td>0.847163</td>\n",
       "      <td>0.997457</td>\n",
       "      <td>-0.261123</td>\n",
       "      <td>1.000000</td>\n",
       "      <td>0.606860</td>\n",
       "      <td>0.764729</td>\n",
       "    </tr>\n",
       "    <tr>\n",
       "      <th>w</th>\n",
       "      <td>0.583277</td>\n",
       "      <td>-0.401790</td>\n",
       "      <td>0.674486</td>\n",
       "      <td>0.583803</td>\n",
       "      <td>-0.401790</td>\n",
       "      <td>0.606860</td>\n",
       "      <td>1.000000</td>\n",
       "      <td>0.641750</td>\n",
       "    </tr>\n",
       "    <tr>\n",
       "      <th>target</th>\n",
       "      <td>0.728290</td>\n",
       "      <td>-0.690684</td>\n",
       "      <td>0.969990</td>\n",
       "      <td>0.719570</td>\n",
       "      <td>-0.690684</td>\n",
       "      <td>0.764729</td>\n",
       "      <td>0.641750</td>\n",
       "      <td>1.000000</td>\n",
       "    </tr>\n",
       "  </tbody>\n",
       "</table>\n",
       "</div>\n",
       "      <button class=\"colab-df-convert\" onclick=\"convertToInteractive('df-0e774684-ce1d-4336-9a9d-542bc5600c4b')\"\n",
       "              title=\"Convert this dataframe to an interactive table.\"\n",
       "              style=\"display:none;\">\n",
       "        \n",
       "  <svg xmlns=\"http://www.w3.org/2000/svg\" height=\"24px\"viewBox=\"0 0 24 24\"\n",
       "       width=\"24px\">\n",
       "    <path d=\"M0 0h24v24H0V0z\" fill=\"none\"/>\n",
       "    <path d=\"M18.56 5.44l.94 2.06.94-2.06 2.06-.94-2.06-.94-.94-2.06-.94 2.06-2.06.94zm-11 1L8.5 8.5l.94-2.06 2.06-.94-2.06-.94L8.5 2.5l-.94 2.06-2.06.94zm10 10l.94 2.06.94-2.06 2.06-.94-2.06-.94-.94-2.06-.94 2.06-2.06.94z\"/><path d=\"M17.41 7.96l-1.37-1.37c-.4-.4-.92-.59-1.43-.59-.52 0-1.04.2-1.43.59L10.3 9.45l-7.72 7.72c-.78.78-.78 2.05 0 2.83L4 21.41c.39.39.9.59 1.41.59.51 0 1.02-.2 1.41-.59l7.78-7.78 2.81-2.81c.8-.78.8-2.07 0-2.86zM5.41 20L4 18.59l7.72-7.72 1.47 1.35L5.41 20z\"/>\n",
       "  </svg>\n",
       "      </button>\n",
       "      \n",
       "  <style>\n",
       "    .colab-df-container {\n",
       "      display:flex;\n",
       "      flex-wrap:wrap;\n",
       "      gap: 12px;\n",
       "    }\n",
       "\n",
       "    .colab-df-convert {\n",
       "      background-color: #E8F0FE;\n",
       "      border: none;\n",
       "      border-radius: 50%;\n",
       "      cursor: pointer;\n",
       "      display: none;\n",
       "      fill: #1967D2;\n",
       "      height: 32px;\n",
       "      padding: 0 0 0 0;\n",
       "      width: 32px;\n",
       "    }\n",
       "\n",
       "    .colab-df-convert:hover {\n",
       "      background-color: #E2EBFA;\n",
       "      box-shadow: 0px 1px 2px rgba(60, 64, 67, 0.3), 0px 1px 3px 1px rgba(60, 64, 67, 0.15);\n",
       "      fill: #174EA6;\n",
       "    }\n",
       "\n",
       "    [theme=dark] .colab-df-convert {\n",
       "      background-color: #3B4455;\n",
       "      fill: #D2E3FC;\n",
       "    }\n",
       "\n",
       "    [theme=dark] .colab-df-convert:hover {\n",
       "      background-color: #434B5C;\n",
       "      box-shadow: 0px 1px 3px 1px rgba(0, 0, 0, 0.15);\n",
       "      filter: drop-shadow(0px 1px 2px rgba(0, 0, 0, 0.3));\n",
       "      fill: #FFFFFF;\n",
       "    }\n",
       "  </style>\n",
       "\n",
       "      <script>\n",
       "        const buttonEl =\n",
       "          document.querySelector('#df-0e774684-ce1d-4336-9a9d-542bc5600c4b button.colab-df-convert');\n",
       "        buttonEl.style.display =\n",
       "          google.colab.kernel.accessAllowed ? 'block' : 'none';\n",
       "\n",
       "        async function convertToInteractive(key) {\n",
       "          const element = document.querySelector('#df-0e774684-ce1d-4336-9a9d-542bc5600c4b');\n",
       "          const dataTable =\n",
       "            await google.colab.kernel.invokeFunction('convertToInteractive',\n",
       "                                                     [key], {});\n",
       "          if (!dataTable) return;\n",
       "\n",
       "          const docLinkHtml = 'Like what you see? Visit the ' +\n",
       "            '<a target=\"_blank\" href=https://colab.research.google.com/notebooks/data_table.ipynb>data table notebook</a>'\n",
       "            + ' to learn more about interactive tables.';\n",
       "          element.innerHTML = '';\n",
       "          dataTable['output_type'] = 'display_data';\n",
       "          await google.colab.output.renderOutput(dataTable, element);\n",
       "          const docLink = document.createElement('div');\n",
       "          docLink.innerHTML = docLinkHtml;\n",
       "          element.appendChild(docLink);\n",
       "        }\n",
       "      </script>\n",
       "    </div>\n",
       "  </div>\n",
       "  "
      ],
      "text/plain": [
       "                  x         y         z  ...  2*z+3*x*x         w    target\n",
       "x          1.000000 -0.205926  0.812458  ...   0.996252  0.583277  0.728290\n",
       "y         -0.205926  1.000000 -0.602663  ...  -0.261123 -0.401790 -0.690684\n",
       "z          0.812458 -0.602663  1.000000  ...   0.847163  0.674486  0.969990\n",
       "x*x        0.997947 -0.209289  0.807137  ...   0.997457  0.583803  0.719570\n",
       "2*y       -0.205926  1.000000 -0.602663  ...  -0.261123 -0.401790 -0.690684\n",
       "2*z+3*x*x  0.996252 -0.261123  0.847163  ...   1.000000  0.606860  0.764729\n",
       "w          0.583277 -0.401790  0.674486  ...   0.606860  1.000000  0.641750\n",
       "target     0.728290 -0.690684  0.969990  ...   0.764729  0.641750  1.000000\n",
       "\n",
       "[8 rows x 8 columns]"
      ]
     },
     "execution_count": 9,
     "metadata": {},
     "output_type": "execute_result"
    }
   ],
   "source": [
    "#Using the libraries of sklearn\n",
    "corelationMatrix = data.corr()\n",
    "corelationMatrix"
   ]
  },
  {
   "cell_type": "code",
   "execution_count": null,
   "metadata": {
    "colab": {
     "base_uri": "https://localhost:8080/",
     "height": 330
    },
    "id": "Lai8wXU1pmSb",
    "outputId": "396006ba-7566-4e01-92ca-d8e10c0439dc"
   },
   "outputs": [
    {
     "data": {
      "text/plain": [
       "<matplotlib.axes._subplots.AxesSubplot at 0x7fb4f7d45ed0>"
      ]
     },
     "execution_count": 30,
     "metadata": {},
     "output_type": "execute_result"
    },
    {
     "data": {
      "image/png": "[encoded data removed]",
      "text/plain": [
       "<Figure size 432x288 with 2 Axes>"
      ]
     },
     "metadata": {
      "needs_background": "light"
     },
     "output_type": "display_data"
    }
   ],
   "source": [
    "# b. plotting the heat map\n",
    "sns.heatmap(corelationMatrix )"
   ]
  },
  {
   "cell_type": "code",
   "execution_count": null,
   "metadata": {
    "colab": {
     "base_uri": "https://localhost:8080/",
     "height": 300
    },
    "id": "efNlhqdhUkGY",
    "outputId": "df75eb97-2e1f-48a6-dd00-7048a4b7f2a6"
   },
   "outputs": [
    {
     "data": {
      "text/html": [
       "<style  type=\"text/css\" >\n",
       "#T_80939df8_6d8b_11ec_aa27_0242ac1c0002row0_col0,#T_80939df8_6d8b_11ec_aa27_0242ac1c0002row0_col3,#T_80939df8_6d8b_11ec_aa27_0242ac1c0002row0_col5,#T_80939df8_6d8b_11ec_aa27_0242ac1c0002row1_col1,#T_80939df8_6d8b_11ec_aa27_0242ac1c0002row1_col4,#T_80939df8_6d8b_11ec_aa27_0242ac1c0002row2_col2,#T_80939df8_6d8b_11ec_aa27_0242ac1c0002row3_col0,#T_80939df8_6d8b_11ec_aa27_0242ac1c0002row3_col3,#T_80939df8_6d8b_11ec_aa27_0242ac1c0002row3_col5,#T_80939df8_6d8b_11ec_aa27_0242ac1c0002row4_col1,#T_80939df8_6d8b_11ec_aa27_0242ac1c0002row4_col4,#T_80939df8_6d8b_11ec_aa27_0242ac1c0002row5_col0,#T_80939df8_6d8b_11ec_aa27_0242ac1c0002row5_col3,#T_80939df8_6d8b_11ec_aa27_0242ac1c0002row5_col5,#T_80939df8_6d8b_11ec_aa27_0242ac1c0002row6_col6,#T_80939df8_6d8b_11ec_aa27_0242ac1c0002row7_col7{\n",
       "            background-color:  #b40426;\n",
       "            color:  #f1f1f1;\n",
       "        }#T_80939df8_6d8b_11ec_aa27_0242ac1c0002row0_col1,#T_80939df8_6d8b_11ec_aa27_0242ac1c0002row0_col4{\n",
       "            background-color:  #9abbff;\n",
       "            color:  #000000;\n",
       "        }#T_80939df8_6d8b_11ec_aa27_0242ac1c0002row0_col2{\n",
       "            background-color:  #da5a49;\n",
       "            color:  #000000;\n",
       "        }#T_80939df8_6d8b_11ec_aa27_0242ac1c0002row0_col6,#T_80939df8_6d8b_11ec_aa27_0242ac1c0002row3_col6{\n",
       "            background-color:  #f7ac8e;\n",
       "            color:  #000000;\n",
       "        }#T_80939df8_6d8b_11ec_aa27_0242ac1c0002row0_col7{\n",
       "            background-color:  #e67259;\n",
       "            color:  #000000;\n",
       "        }#T_80939df8_6d8b_11ec_aa27_0242ac1c0002row1_col0,#T_80939df8_6d8b_11ec_aa27_0242ac1c0002row1_col2,#T_80939df8_6d8b_11ec_aa27_0242ac1c0002row1_col3,#T_80939df8_6d8b_11ec_aa27_0242ac1c0002row1_col5,#T_80939df8_6d8b_11ec_aa27_0242ac1c0002row1_col6,#T_80939df8_6d8b_11ec_aa27_0242ac1c0002row1_col7,#T_80939df8_6d8b_11ec_aa27_0242ac1c0002row4_col0,#T_80939df8_6d8b_11ec_aa27_0242ac1c0002row4_col2,#T_80939df8_6d8b_11ec_aa27_0242ac1c0002row4_col3,#T_80939df8_6d8b_11ec_aa27_0242ac1c0002row4_col5,#T_80939df8_6d8b_11ec_aa27_0242ac1c0002row4_col6,#T_80939df8_6d8b_11ec_aa27_0242ac1c0002row4_col7,#T_80939df8_6d8b_11ec_aa27_0242ac1c0002row7_col1,#T_80939df8_6d8b_11ec_aa27_0242ac1c0002row7_col4{\n",
       "            background-color:  #3b4cc0;\n",
       "            color:  #f1f1f1;\n",
       "        }#T_80939df8_6d8b_11ec_aa27_0242ac1c0002row2_col0{\n",
       "            background-color:  #e46e56;\n",
       "            color:  #000000;\n",
       "        }#T_80939df8_6d8b_11ec_aa27_0242ac1c0002row2_col1,#T_80939df8_6d8b_11ec_aa27_0242ac1c0002row2_col4{\n",
       "            background-color:  #4a63d3;\n",
       "            color:  #f1f1f1;\n",
       "        }#T_80939df8_6d8b_11ec_aa27_0242ac1c0002row2_col3{\n",
       "            background-color:  #e57058;\n",
       "            color:  #000000;\n",
       "        }#T_80939df8_6d8b_11ec_aa27_0242ac1c0002row2_col5{\n",
       "            background-color:  #dd5f4b;\n",
       "            color:  #000000;\n",
       "        }#T_80939df8_6d8b_11ec_aa27_0242ac1c0002row2_col6,#T_80939df8_6d8b_11ec_aa27_0242ac1c0002row7_col3{\n",
       "            background-color:  #f29274;\n",
       "            color:  #000000;\n",
       "        }#T_80939df8_6d8b_11ec_aa27_0242ac1c0002row2_col7,#T_80939df8_6d8b_11ec_aa27_0242ac1c0002row7_col2{\n",
       "            background-color:  #ba162b;\n",
       "            color:  #f1f1f1;\n",
       "        }#T_80939df8_6d8b_11ec_aa27_0242ac1c0002row3_col1,#T_80939df8_6d8b_11ec_aa27_0242ac1c0002row3_col4{\n",
       "            background-color:  #98b9ff;\n",
       "            color:  #000000;\n",
       "        }#T_80939df8_6d8b_11ec_aa27_0242ac1c0002row3_col2{\n",
       "            background-color:  #dc5d4a;\n",
       "            color:  #000000;\n",
       "        }#T_80939df8_6d8b_11ec_aa27_0242ac1c0002row3_col7{\n",
       "            background-color:  #e7745b;\n",
       "            color:  #000000;\n",
       "        }#T_80939df8_6d8b_11ec_aa27_0242ac1c0002row5_col1,#T_80939df8_6d8b_11ec_aa27_0242ac1c0002row5_col4{\n",
       "            background-color:  #8fb1fe;\n",
       "            color:  #000000;\n",
       "        }#T_80939df8_6d8b_11ec_aa27_0242ac1c0002row5_col2{\n",
       "            background-color:  #d55042;\n",
       "            color:  #000000;\n",
       "        }#T_80939df8_6d8b_11ec_aa27_0242ac1c0002row5_col6{\n",
       "            background-color:  #f6a586;\n",
       "            color:  #000000;\n",
       "        }#T_80939df8_6d8b_11ec_aa27_0242ac1c0002row5_col7{\n",
       "            background-color:  #e16751;\n",
       "            color:  #000000;\n",
       "        }#T_80939df8_6d8b_11ec_aa27_0242ac1c0002row6_col0,#T_80939df8_6d8b_11ec_aa27_0242ac1c0002row6_col3{\n",
       "            background-color:  #f7bca1;\n",
       "            color:  #000000;\n",
       "        }#T_80939df8_6d8b_11ec_aa27_0242ac1c0002row6_col1,#T_80939df8_6d8b_11ec_aa27_0242ac1c0002row6_col4{\n",
       "            background-color:  #7093f3;\n",
       "            color:  #000000;\n",
       "        }#T_80939df8_6d8b_11ec_aa27_0242ac1c0002row6_col2{\n",
       "            background-color:  #ee8468;\n",
       "            color:  #000000;\n",
       "        }#T_80939df8_6d8b_11ec_aa27_0242ac1c0002row6_col5{\n",
       "            background-color:  #f7b093;\n",
       "            color:  #000000;\n",
       "        }#T_80939df8_6d8b_11ec_aa27_0242ac1c0002row6_col7{\n",
       "            background-color:  #f08a6c;\n",
       "            color:  #000000;\n",
       "        }#T_80939df8_6d8b_11ec_aa27_0242ac1c0002row7_col0{\n",
       "            background-color:  #f18f71;\n",
       "            color:  #000000;\n",
       "        }#T_80939df8_6d8b_11ec_aa27_0242ac1c0002row7_col5{\n",
       "            background-color:  #eb7d62;\n",
       "            color:  #000000;\n",
       "        }#T_80939df8_6d8b_11ec_aa27_0242ac1c0002row7_col6{\n",
       "            background-color:  #f59c7d;\n",
       "            color:  #000000;\n",
       "        }</style><table id=\"T_80939df8_6d8b_11ec_aa27_0242ac1c0002\" class=\"dataframe\"><thead>    <tr>        <th class=\"blank level0\" ></th>        <th class=\"col_heading level0 col0\" >x</th>        <th class=\"col_heading level0 col1\" >y</th>        <th class=\"col_heading level0 col2\" >z</th>        <th class=\"col_heading level0 col3\" >x*x</th>        <th class=\"col_heading level0 col4\" >2*y</th>        <th class=\"col_heading level0 col5\" >2*z+3*x*x</th>        <th class=\"col_heading level0 col6\" >w</th>        <th class=\"col_heading level0 col7\" >target</th>    </tr></thead><tbody>\n",
       "                <tr>\n",
       "                        <th id=\"T_80939df8_6d8b_11ec_aa27_0242ac1c0002level0_row0\" class=\"row_heading level0 row0\" >x</th>\n",
       "                        <td id=\"T_80939df8_6d8b_11ec_aa27_0242ac1c0002row0_col0\" class=\"data row0 col0\" >1.000000</td>\n",
       "                        <td id=\"T_80939df8_6d8b_11ec_aa27_0242ac1c0002row0_col1\" class=\"data row0 col1\" >-0.205926</td>\n",
       "                        <td id=\"T_80939df8_6d8b_11ec_aa27_0242ac1c0002row0_col2\" class=\"data row0 col2\" >0.812458</td>\n",
       "                        <td id=\"T_80939df8_6d8b_11ec_aa27_0242ac1c0002row0_col3\" class=\"data row0 col3\" >0.997947</td>\n",
       "                        <td id=\"T_80939df8_6d8b_11ec_aa27_0242ac1c0002row0_col4\" class=\"data row0 col4\" >-0.205926</td>\n",
       "                        <td id=\"T_80939df8_6d8b_11ec_aa27_0242ac1c0002row0_col5\" class=\"data row0 col5\" >0.996252</td>\n",
       "                        <td id=\"T_80939df8_6d8b_11ec_aa27_0242ac1c0002row0_col6\" class=\"data row0 col6\" >0.583277</td>\n",
       "                        <td id=\"T_80939df8_6d8b_11ec_aa27_0242ac1c0002row0_col7\" class=\"data row0 col7\" >0.728290</td>\n",
       "            </tr>\n",
       "            <tr>\n",
       "                        <th id=\"T_80939df8_6d8b_11ec_aa27_0242ac1c0002level0_row1\" class=\"row_heading level0 row1\" >y</th>\n",
       "                        <td id=\"T_80939df8_6d8b_11ec_aa27_0242ac1c0002row1_col0\" class=\"data row1 col0\" >-0.205926</td>\n",
       "                        <td id=\"T_80939df8_6d8b_11ec_aa27_0242ac1c0002row1_col1\" class=\"data row1 col1\" >1.000000</td>\n",
       "                        <td id=\"T_80939df8_6d8b_11ec_aa27_0242ac1c0002row1_col2\" class=\"data row1 col2\" >-0.602663</td>\n",
       "                        <td id=\"T_80939df8_6d8b_11ec_aa27_0242ac1c0002row1_col3\" class=\"data row1 col3\" >-0.209289</td>\n",
       "                        <td id=\"T_80939df8_6d8b_11ec_aa27_0242ac1c0002row1_col4\" class=\"data row1 col4\" >1.000000</td>\n",
       "                        <td id=\"T_80939df8_6d8b_11ec_aa27_0242ac1c0002row1_col5\" class=\"data row1 col5\" >-0.261123</td>\n",
       "                        <td id=\"T_80939df8_6d8b_11ec_aa27_0242ac1c0002row1_col6\" class=\"data row1 col6\" >-0.401790</td>\n",
       "                        <td id=\"T_80939df8_6d8b_11ec_aa27_0242ac1c0002row1_col7\" class=\"data row1 col7\" >-0.690684</td>\n",
       "            </tr>\n",
       "            <tr>\n",
       "                        <th id=\"T_80939df8_6d8b_11ec_aa27_0242ac1c0002level0_row2\" class=\"row_heading level0 row2\" >z</th>\n",
       "                        <td id=\"T_80939df8_6d8b_11ec_aa27_0242ac1c0002row2_col0\" class=\"data row2 col0\" >0.812458</td>\n",
       "                        <td id=\"T_80939df8_6d8b_11ec_aa27_0242ac1c0002row2_col1\" class=\"data row2 col1\" >-0.602663</td>\n",
       "                        <td id=\"T_80939df8_6d8b_11ec_aa27_0242ac1c0002row2_col2\" class=\"data row2 col2\" >1.000000</td>\n",
       "                        <td id=\"T_80939df8_6d8b_11ec_aa27_0242ac1c0002row2_col3\" class=\"data row2 col3\" >0.807137</td>\n",
       "                        <td id=\"T_80939df8_6d8b_11ec_aa27_0242ac1c0002row2_col4\" class=\"data row2 col4\" >-0.602663</td>\n",
       "                        <td id=\"T_80939df8_6d8b_11ec_aa27_0242ac1c0002row2_col5\" class=\"data row2 col5\" >0.847163</td>\n",
       "                        <td id=\"T_80939df8_6d8b_11ec_aa27_0242ac1c0002row2_col6\" class=\"data row2 col6\" >0.674486</td>\n",
       "                        <td id=\"T_80939df8_6d8b_11ec_aa27_0242ac1c0002row2_col7\" class=\"data row2 col7\" >0.969990</td>\n",
       "            </tr>\n",
       "            <tr>\n",
       "                        <th id=\"T_80939df8_6d8b_11ec_aa27_0242ac1c0002level0_row3\" class=\"row_heading level0 row3\" >x*x</th>\n",
       "                        <td id=\"T_80939df8_6d8b_11ec_aa27_0242ac1c0002row3_col0\" class=\"data row3 col0\" >0.997947</td>\n",
       "                        <td id=\"T_80939df8_6d8b_11ec_aa27_0242ac1c0002row3_col1\" class=\"data row3 col1\" >-0.209289</td>\n",
       "                        <td id=\"T_80939df8_6d8b_11ec_aa27_0242ac1c0002row3_col2\" class=\"data row3 col2\" >0.807137</td>\n",
       "                        <td id=\"T_80939df8_6d8b_11ec_aa27_0242ac1c0002row3_col3\" class=\"data row3 col3\" >1.000000</td>\n",
       "                        <td id=\"T_80939df8_6d8b_11ec_aa27_0242ac1c0002row3_col4\" class=\"data row3 col4\" >-0.209289</td>\n",
       "                        <td id=\"T_80939df8_6d8b_11ec_aa27_0242ac1c0002row3_col5\" class=\"data row3 col5\" >0.997457</td>\n",
       "                        <td id=\"T_80939df8_6d8b_11ec_aa27_0242ac1c0002row3_col6\" class=\"data row3 col6\" >0.583803</td>\n",
       "                        <td id=\"T_80939df8_6d8b_11ec_aa27_0242ac1c0002row3_col7\" class=\"data row3 col7\" >0.719570</td>\n",
       "            </tr>\n",
       "            <tr>\n",
       "                        <th id=\"T_80939df8_6d8b_11ec_aa27_0242ac1c0002level0_row4\" class=\"row_heading level0 row4\" >2*y</th>\n",
       "                        <td id=\"T_80939df8_6d8b_11ec_aa27_0242ac1c0002row4_col0\" class=\"data row4 col0\" >-0.205926</td>\n",
       "                        <td id=\"T_80939df8_6d8b_11ec_aa27_0242ac1c0002row4_col1\" class=\"data row4 col1\" >1.000000</td>\n",
       "                        <td id=\"T_80939df8_6d8b_11ec_aa27_0242ac1c0002row4_col2\" class=\"data row4 col2\" >-0.602663</td>\n",
       "                        <td id=\"T_80939df8_6d8b_11ec_aa27_0242ac1c0002row4_col3\" class=\"data row4 col3\" >-0.209289</td>\n",
       "                        <td id=\"T_80939df8_6d8b_11ec_aa27_0242ac1c0002row4_col4\" class=\"data row4 col4\" >1.000000</td>\n",
       "                        <td id=\"T_80939df8_6d8b_11ec_aa27_0242ac1c0002row4_col5\" class=\"data row4 col5\" >-0.261123</td>\n",
       "                        <td id=\"T_80939df8_6d8b_11ec_aa27_0242ac1c0002row4_col6\" class=\"data row4 col6\" >-0.401790</td>\n",
       "                        <td id=\"T_80939df8_6d8b_11ec_aa27_0242ac1c0002row4_col7\" class=\"data row4 col7\" >-0.690684</td>\n",
       "            </tr>\n",
       "            <tr>\n",
       "                        <th id=\"T_80939df8_6d8b_11ec_aa27_0242ac1c0002level0_row5\" class=\"row_heading level0 row5\" >2*z+3*x*x</th>\n",
       "                        <td id=\"T_80939df8_6d8b_11ec_aa27_0242ac1c0002row5_col0\" class=\"data row5 col0\" >0.996252</td>\n",
       "                        <td id=\"T_80939df8_6d8b_11ec_aa27_0242ac1c0002row5_col1\" class=\"data row5 col1\" >-0.261123</td>\n",
       "                        <td id=\"T_80939df8_6d8b_11ec_aa27_0242ac1c0002row5_col2\" class=\"data row5 col2\" >0.847163</td>\n",
       "                        <td id=\"T_80939df8_6d8b_11ec_aa27_0242ac1c0002row5_col3\" class=\"data row5 col3\" >0.997457</td>\n",
       "                        <td id=\"T_80939df8_6d8b_11ec_aa27_0242ac1c0002row5_col4\" class=\"data row5 col4\" >-0.261123</td>\n",
       "                        <td id=\"T_80939df8_6d8b_11ec_aa27_0242ac1c0002row5_col5\" class=\"data row5 col5\" >1.000000</td>\n",
       "                        <td id=\"T_80939df8_6d8b_11ec_aa27_0242ac1c0002row5_col6\" class=\"data row5 col6\" >0.606860</td>\n",
       "                        <td id=\"T_80939df8_6d8b_11ec_aa27_0242ac1c0002row5_col7\" class=\"data row5 col7\" >0.764729</td>\n",
       "            </tr>\n",
       "            <tr>\n",
       "                        <th id=\"T_80939df8_6d8b_11ec_aa27_0242ac1c0002level0_row6\" class=\"row_heading level0 row6\" >w</th>\n",
       "                        <td id=\"T_80939df8_6d8b_11ec_aa27_0242ac1c0002row6_col0\" class=\"data row6 col0\" >0.583277</td>\n",
       "                        <td id=\"T_80939df8_6d8b_11ec_aa27_0242ac1c0002row6_col1\" class=\"data row6 col1\" >-0.401790</td>\n",
       "                        <td id=\"T_80939df8_6d8b_11ec_aa27_0242ac1c0002row6_col2\" class=\"data row6 col2\" >0.674486</td>\n",
       "                        <td id=\"T_80939df8_6d8b_11ec_aa27_0242ac1c0002row6_col3\" class=\"data row6 col3\" >0.583803</td>\n",
       "                        <td id=\"T_80939df8_6d8b_11ec_aa27_0242ac1c0002row6_col4\" class=\"data row6 col4\" >-0.401790</td>\n",
       "                        <td id=\"T_80939df8_6d8b_11ec_aa27_0242ac1c0002row6_col5\" class=\"data row6 col5\" >0.606860</td>\n",
       "                        <td id=\"T_80939df8_6d8b_11ec_aa27_0242ac1c0002row6_col6\" class=\"data row6 col6\" >1.000000</td>\n",
       "                        <td id=\"T_80939df8_6d8b_11ec_aa27_0242ac1c0002row6_col7\" class=\"data row6 col7\" >0.641750</td>\n",
       "            </tr>\n",
       "            <tr>\n",
       "                        <th id=\"T_80939df8_6d8b_11ec_aa27_0242ac1c0002level0_row7\" class=\"row_heading level0 row7\" >target</th>\n",
       "                        <td id=\"T_80939df8_6d8b_11ec_aa27_0242ac1c0002row7_col0\" class=\"data row7 col0\" >0.728290</td>\n",
       "                        <td id=\"T_80939df8_6d8b_11ec_aa27_0242ac1c0002row7_col1\" class=\"data row7 col1\" >-0.690684</td>\n",
       "                        <td id=\"T_80939df8_6d8b_11ec_aa27_0242ac1c0002row7_col2\" class=\"data row7 col2\" >0.969990</td>\n",
       "                        <td id=\"T_80939df8_6d8b_11ec_aa27_0242ac1c0002row7_col3\" class=\"data row7 col3\" >0.719570</td>\n",
       "                        <td id=\"T_80939df8_6d8b_11ec_aa27_0242ac1c0002row7_col4\" class=\"data row7 col4\" >-0.690684</td>\n",
       "                        <td id=\"T_80939df8_6d8b_11ec_aa27_0242ac1c0002row7_col5\" class=\"data row7 col5\" >0.764729</td>\n",
       "                        <td id=\"T_80939df8_6d8b_11ec_aa27_0242ac1c0002row7_col6\" class=\"data row7 col6\" >0.641750</td>\n",
       "                        <td id=\"T_80939df8_6d8b_11ec_aa27_0242ac1c0002row7_col7\" class=\"data row7 col7\" >1.000000</td>\n",
       "            </tr>\n",
       "    </tbody></table>"
      ],
      "text/plain": [
       "<pandas.io.formats.style.Styler at 0x7fb4f7b67290>"
      ]
     },
     "execution_count": 31,
     "metadata": {},
     "output_type": "execute_result"
    }
   ],
   "source": [
    "corelationMatrix.style.background_gradient(cmap='coolwarm')"
   ]
  },
  {
   "cell_type": "markdown",
   "metadata": {
    "id": "FoL4I4f5ahs-"
   },
   "source": [
    "1.2"
   ]
  },
  {
   "cell_type": "code",
   "execution_count": null,
   "metadata": {
    "colab": {
     "base_uri": "https://localhost:8080/"
    },
    "id": "SsfOVXsKaMQD",
    "outputId": "a6973c92-7be7-4f03-aa62-c1a714c4c255"
   },
   "outputs": [
    {
     "name": "stdout",
     "output_type": "stream",
     "text": [
      "Fitting 5 folds for each of 1000 candidates, totalling 5000 fits\n"
     ]
    }
   ],
   "source": [
    "from sklearn.pipeline import Pipeline\n",
    "from sklearn.linear_model import LogisticRegression\n",
    "pipe =Pipeline([(\"classifier\",LogisticRegression())])\n",
    "grid_param= [\n",
    "             {\n",
    "                 \"classifier\":[LogisticRegression()],\n",
    "              \"classifier__penalty\": ['l1','l2'],\n",
    "              \"classifier__C\" : np.logspace(-1,4,500),\n",
    "             }\n",
    "]\n",
    "gridsearch = GridSearchCV(pipe,grid_param,cv=5,verbose=2,n_jobs=-1)\n",
    "best_model= gridsearch.fit(X,Y)"
   ]
  },
  {
   "cell_type": "code",
   "execution_count": null,
   "metadata": {
    "colab": {
     "base_uri": "https://localhost:8080/"
    },
    "id": "6Fyvn7b8pcDC",
    "outputId": "a1556bc3-1314-46b4-a5d4-1628916c3377"
   },
   "outputs": [
    {
     "name": "stdout",
     "output_type": "stream",
     "text": [
      "Pipeline(steps=[('classifier', LogisticRegression(C=0.1))])\n",
      "The mean accuracy of the model is: 1.0\n"
     ]
    }
   ],
   "source": [
    "print(best_model.best_estimator_)\n",
    "print(\"The mean accuracy of the model is:\",best_model.score(X,Y))"
   ]
  },
  {
   "cell_type": "code",
   "execution_count": null,
   "metadata": {
    "colab": {
     "base_uri": "https://localhost:8080/"
    },
    "id": "-GXkHBGjqWpC",
    "outputId": "7aba6198-46df-4405-febe-7752a52f7380"
   },
   "outputs": [
    {
     "name": "stdout",
     "output_type": "stream",
     "text": [
      "Best parameter (CV score=1.000):\n",
      "{'classifier': LogisticRegression(C=0.1), 'classifier__C': 0.1, 'classifier__penalty': 'l2'}\n"
     ]
    }
   ],
   "source": [
    "print(\"Best parameter (CV score=%0.3f):\" % gridsearch.best_score_)\n",
    "print(gridsearch.best_params_)"
   ]
  },
  {
   "cell_type": "markdown",
   "metadata": {
    "id": "xeUxorWnrl87"
   },
   "source": [
    "1.3\n"
   ]
  },
  {
   "cell_type": "code",
   "execution_count": null,
   "metadata": {
    "colab": {
     "base_uri": "https://localhost:8080/"
    },
    "id": "v1Xqz94MroZT",
    "outputId": "45f0d974-961c-40fd-9e37-07a5e701b0c5"
   },
   "outputs": [
    {
     "name": "stdout",
     "output_type": "stream",
     "text": [
      "1.0\n",
      "The weights of the original logistic regression model is  [[ 0.41339802 -0.51553068  0.78497195  0.39392784 -0.51553068  0.44931007\n",
      "   0.34658609]]\n"
     ]
    }
   ],
   "source": [
    "best_logistic_regression_model= LogisticRegression(C=gridsearch.best_params_['classifier__C'])\n",
    "best_logistic_regression_model.fit(X,Y)\n",
    "best_logistic_regression_model_accuracy = best_logistic_regression_model.score(X,Y)\n",
    "print(best_logistic_regression_model_accuracy)\n",
    "best_logistic_model_weights=best_logistic_regression_model.coef_\n",
    "print(\"The weights of the original logistic regression model is \",best_logistic_model_weights)"
   ]
  },
  {
   "cell_type": "markdown",
   "metadata": {
    "id": "h7rQUG9iFIeR"
   },
   "source": [
    "1.4"
   ]
  },
  {
   "cell_type": "code",
   "execution_count": null,
   "metadata": {
    "colab": {
     "base_uri": "https://localhost:8080/"
    },
    "id": "Y9HRzgs1wUFp",
    "outputId": "9405a2ab-f2b4-446b-8fdf-f5a12f09ba26"
   },
   "outputs": [
    {
     "name": "stdout",
     "output_type": "stream",
     "text": [
      "1.0\n",
      "The weights of the edited logistic regression model is  [[ 0.41382642 -0.51562925  0.7857692   0.39292078 -0.51535991  0.44886219\n",
      "   0.34680886]]\n"
     ]
    }
   ],
   "source": [
    "X = X + np.random.normal(0,10**-2,X.shape)\n",
    "best_logistic_regression_model_edited= LogisticRegression(C=gridsearch.best_params_['classifier__C'])\n",
    "best_logistic_regression_model_edited.fit(X,Y)\n",
    "best_logistic_regression_model_edited_accuracy = best_logistic_regression_model_edited.score(X,Y)\n",
    "print(best_logistic_regression_model_edited_accuracy)\n",
    "best_logistic_model_weights_edited=best_logistic_regression_model_edited.coef_\n",
    "print(\"The weights of the edited logistic regression model is \",best_logistic_regression_model_edited.coef_)"
   ]
  },
  {
   "cell_type": "code",
   "execution_count": null,
   "metadata": {
    "colab": {
     "base_uri": "https://localhost:8080/"
    },
    "id": "0uEL4RJZF4e-",
    "outputId": "4782c8c0-ab25-48db-83ba-2817ef62b729"
   },
   "outputs": [
    {
     "name": "stdout",
     "output_type": "stream",
     "text": [
      "The difference of between both logistic regression  0.0\n"
     ]
    }
   ],
   "source": [
    "difference_logistic_regression = abs(best_logistic_regression_model_edited_accuracy - best_logistic_regression_model_accuracy)\n",
    "print(\"The difference of between both logistic regression \", difference_logistic_regression)"
   ]
  },
  {
   "cell_type": "code",
   "execution_count": null,
   "metadata": {
    "colab": {
     "base_uri": "https://localhost:8080/"
    },
    "id": "asxBoKB_WLp3",
    "outputId": "126f97f9-1ffe-441c-b378-28a88e5bf253"
   },
   "outputs": [
    {
     "name": "stdout",
     "output_type": "stream",
     "text": [
      "absolute weights difference [[4.28393638e-04 9.85715897e-05 7.97252771e-04 1.00705728e-03\n",
      "  1.70770281e-04 4.47879525e-04 2.22772385e-04]]\n",
      "absolute weights percent difference [[0.04283936 0.00985716 0.07972528 0.10070573 0.01707703 0.04478795\n",
      "  0.02227724]]\n"
     ]
    }
   ],
   "source": [
    "abs_weight_difference = abs(best_logistic_model_weights - best_logistic_model_weights_edited)\n",
    "print(f\"absolute weights difference\", abs_weight_difference)\n",
    "abs_weight_percent_diff = abs_weight_difference*100\n",
    "print(f\"absolute weights percent difference\", abs_weight_percent_diff)"
   ]
  },
  {
   "cell_type": "code",
   "execution_count": null,
   "metadata": {
    "colab": {
     "base_uri": "https://localhost:8080/"
    },
    "id": "Ql_SyQ0qQXA9",
    "outputId": "77f782cb-1bbc-4785-b4bd-a49c7e0bf1cc"
   },
   "outputs": [
    {
     "name": "stdout",
     "output_type": "stream",
     "text": [
      "absolute weights difference [[4.28393638e-04 9.85715897e-05 7.97252771e-04 1.00705728e-03\n",
      "  1.70770281e-04 4.47879525e-04 2.22772385e-04]]\n",
      "absolute weights percent difference [[0.04283936 0.00985716 0.07972528 0.10070573 0.01707703 0.04478795\n",
      "  0.02227724]]\n",
      "Top 4 feature index  [[3 2 5 0]]\n",
      "Top 4 features having highest absolute percentage weight change are [['x*x' 'z' '2*z+3*x*x' 'x']]\n"
     ]
    }
   ],
   "source": [
    "abs_weight_difference = abs(best_logistic_model_weights - best_logistic_model_weights_edited)\n",
    "print(f\"absolute weights difference\", abs_weight_difference)\n",
    "abs_weight_percent_diff = abs_weight_difference*100\n",
    "print(f\"absolute weights percent difference\", abs_weight_percent_diff)\n",
    "top4 = np.argsort(-abs_weight_percent_diff)[:,:4]\n",
    "print('Top 4 feature index ',top4[:4]) #Top 4 feture index with highest difference in weights\n",
    "features = data.columns\n",
    "print(\"Top 4 features having highest absolute percentage weight change are\", features[top4])"
   ]
  },
  {
   "cell_type": "markdown",
   "metadata": {
    "id": "BNiWtP7cYWzk"
   },
   "source": [
    "**Experiment 2**\n",
    "<br>1.2 "
   ]
  },
  {
   "cell_type": "code",
   "execution_count": null,
   "metadata": {
    "colab": {
     "base_uri": "https://localhost:8080/"
    },
    "id": "e6nhgBk1YqsC",
    "outputId": "95a228ba-060e-4344-fd99-f988c01eeceb"
   },
   "outputs": [
    {
     "name": "stdout",
     "output_type": "stream",
     "text": [
      "Fitting 5 folds for each of 1000 candidates, totalling 5000 fits\n"
     ]
    }
   ],
   "source": [
    "from sklearn.svm import  LinearSVC\n",
    "pipe =Pipeline([(\"classifier\",LogisticRegression())])\n",
    "grid_param= [\n",
    "             {\n",
    "                 \"classifier\":[LinearSVC()],\n",
    "                 \"classifier__penalty\": ['l1','l2'],\n",
    "                 \"classifier__C\" : np.logspace(-4,4,500),\n",
    "             }\n",
    "]\n",
    "gridsearch = GridSearchCV(pipe,grid_param,cv=5,verbose=2,n_jobs=-1)\n",
    "best_model= gridsearch.fit(X,Y)"
   ]
  },
  {
   "cell_type": "code",
   "execution_count": null,
   "metadata": {
    "colab": {
     "base_uri": "https://localhost:8080/"
    },
    "id": "TPcAyhmDbWY0",
    "outputId": "6fa7d008-e196-4771-a69c-c024807a9b48"
   },
   "outputs": [
    {
     "name": "stdout",
     "output_type": "stream",
     "text": [
      "Pipeline(steps=[('classifier', LinearSVC(C=0.0001))])\n",
      "The mean accuracy of the model is: 1.0\n"
     ]
    }
   ],
   "source": [
    "print(best_model.best_estimator_)\n",
    "print(\"The mean accuracy of the model is:\",best_model.score(X,Y))"
   ]
  },
  {
   "cell_type": "code",
   "execution_count": null,
   "metadata": {
    "colab": {
     "base_uri": "https://localhost:8080/"
    },
    "id": "niJy3qhgbYAY",
    "outputId": "6701f491-cc9b-44e7-b060-96f4432ad192"
   },
   "outputs": [
    {
     "name": "stdout",
     "output_type": "stream",
     "text": [
      "Best parameter (CV score=1.000):\n",
      "{'classifier': LinearSVC(C=0.0001), 'classifier__C': 0.0001, 'classifier__penalty': 'l2'}\n"
     ]
    }
   ],
   "source": [
    "print(\"Best parameter (CV score=%0.3f):\" % gridsearch.best_score_)\n",
    "print(gridsearch.best_params_)"
   ]
  },
  {
   "cell_type": "markdown",
   "metadata": {
    "id": "qsz06_GlbcHN"
   },
   "source": [
    "1.3"
   ]
  },
  {
   "cell_type": "code",
   "execution_count": null,
   "metadata": {
    "colab": {
     "base_uri": "https://localhost:8080/"
    },
    "id": "Pt6tsLfybfcC",
    "outputId": "f4fa6c5b-4829-4947-84f5-7e1e07ea055b"
   },
   "outputs": [
    {
     "name": "stdout",
     "output_type": "stream",
     "text": [
      "The best value of accuracy score is  1.0\n",
      "The weights of the original logistic regression model is  [[ 0.00359778 -0.00341575  0.00480441  0.00354769 -0.00341889  0.00377547\n",
      "   0.00316922]]\n"
     ]
    }
   ],
   "source": [
    "best_SVM_model= LogisticRegression(C=gridsearch.best_params_['classifier__C'])\n",
    "best_SVM_model.fit(X,Y)\n",
    "best_SVM_model_accuracy = best_SVM_model.score(X,Y)\n",
    "print(\"The best value of accuracy score is \",best_SVM_model_accuracy)\n",
    "best_SVM_model_weights=best_SVM_model.coef_\n",
    "print(\"The weights of the original logistic regression model is \",best_SVM_model_weights)"
   ]
  },
  {
   "cell_type": "markdown",
   "metadata": {
    "id": "Ec1fxuJIbkEx"
   },
   "source": [
    "1.4"
   ]
  },
  {
   "cell_type": "code",
   "execution_count": null,
   "metadata": {
    "colab": {
     "base_uri": "https://localhost:8080/"
    },
    "id": "m2WF_ypOblbt",
    "outputId": "410fa432-ca0f-46c2-adf9-03960db8a744"
   },
   "outputs": [
    {
     "name": "stdout",
     "output_type": "stream",
     "text": [
      "1.0\n",
      "The weights of the edited logistic regression model is  [[ 0.0132199  -0.01278715  0.01795682  0.01304054 -0.01283076  0.0139099\n",
      "   0.01166027]]\n"
     ]
    }
   ],
   "source": [
    "X = X + np.random.normal(0,10**-2,X.shape)\n",
    "best_SVM_model_edited= LinearSVC(C=gridsearch.best_params_['classifier__C'])\n",
    "best_SVM_model_edited.fit(X,Y)\n",
    "best_SVM_model_edited_accuracy = best_SVM_model_edited.score(X,Y)\n",
    "print(best_SVM_model_edited_accuracy)\n",
    "best_SVM_model_weights_edited=best_SVM_model_edited.coef_\n",
    "print(\"The weights of the edited logistic regression model is \",best_SVM_model_edited.coef_)"
   ]
  },
  {
   "cell_type": "code",
   "execution_count": null,
   "metadata": {
    "colab": {
     "base_uri": "https://localhost:8080/"
    },
    "id": "UPXV1_YpbxR6",
    "outputId": "61dabf48-de9d-4b14-d87d-0a3176a1cfef"
   },
   "outputs": [
    {
     "name": "stdout",
     "output_type": "stream",
     "text": [
      "The difference of between both logistic regression  0.0\n"
     ]
    }
   ],
   "source": [
    "difference_SVM = abs(best_SVM_model_edited_accuracy - best_SVM_model_accuracy)\n",
    "print(\"The difference of between both logistic regression \", difference_SVM)"
   ]
  },
  {
   "cell_type": "code",
   "execution_count": null,
   "metadata": {
    "colab": {
     "base_uri": "https://localhost:8080/"
    },
    "id": "zTPdQ8SHb0Ts",
    "outputId": "985630db-aa65-4618-ea6d-5d69d9a37cd0"
   },
   "outputs": [
    {
     "name": "stdout",
     "output_type": "stream",
     "text": [
      "absolute weights difference [[0.00962212 0.0093714  0.01315241 0.00949284 0.00941188 0.01013443\n",
      "  0.00849105]]\n",
      "absolute weights percent difference [[0.96221184 0.93713981 1.31524087 0.94928429 0.94118757 1.01344293\n",
      "  0.8491051 ]]\n"
     ]
    }
   ],
   "source": [
    "abs_weight_difference = abs(best_SVM_model_weights - best_SVM_model_weights_edited)\n",
    "print(f\"absolute weights difference\", abs_weight_difference)\n",
    "abs_weight_percent_diff = abs_weight_difference*100\n",
    "print(f\"absolute weights percent difference\", abs_weight_percent_diff)"
   ]
  },
  {
   "cell_type": "code",
   "execution_count": null,
   "metadata": {
    "colab": {
     "base_uri": "https://localhost:8080/"
    },
    "id": "ogz56Cf5b4E_",
    "outputId": "6cd7d1d0-cec9-4fbb-9f16-051ec67f1167"
   },
   "outputs": [
    {
     "name": "stdout",
     "output_type": "stream",
     "text": [
      "absolute weights difference [[0.00962212 0.0093714  0.01315241 0.00949284 0.00941188 0.01013443\n",
      "  0.00849105]]\n",
      "absolute weights percent difference [[0.96221184 0.93713981 1.31524087 0.94928429 0.94118757 1.01344293\n",
      "  0.8491051 ]]\n",
      "Top 4 feature index  [[2 5 0 3]]\n",
      "Top 4 features having highest absolute percentage weight change are [['z' '2*z+3*x*x' 'x' 'x*x']]\n"
     ]
    }
   ],
   "source": [
    "abs_weight_difference = abs(best_SVM_model_weights - best_SVM_model_weights_edited)\n",
    "print(f\"absolute weights difference\", abs_weight_difference)\n",
    "abs_weight_percent_diff = abs_weight_difference*100\n",
    "print(f\"absolute weights percent difference\", abs_weight_percent_diff)\n",
    "top4 = np.argsort(-abs_weight_percent_diff)[:,:4]\n",
    "print('Top 4 feature index ',top4[:4]) #Top 4 feture index with highest difference in weights\n",
    "features = data.columns\n",
    "print(\"Top 4 features having highest absolute percentage weight change are\", features[top4])"
   ]
  },
  {
   "cell_type": "markdown",
   "metadata": {
    "id": "e72IgHU3RJ5Z"
   },
   "source": [
    "**Observation**\n",
    "\n",
    "\n",
    "1.   From the accuracy score which is 1 is due to overfitting due to multi collinearity.\n",
    "2.   Adding small error did not effect the accuracy of the model.\n",
    "3.   Observing the top four features with the biggest difference in coefficients of original data and noisy data, we can conclude that features with high corelation and multi-colinearity are affected by outliers (added noises) and their coefficients are changing.\n"
   ]
  }
 ],
 "metadata": {
  "colab": {
   "collapsed_sections": [],
   "name": "8D_LR_SVM.ipynb",
   "provenance": []
  },
  "kernelspec": {
   "display_name": "Python 3",
   "language": "python",
   "name": "python3"
  },
  "language_info": {
   "codemirror_mode": {
    "name": "ipython",
    "version": 3
   },
   "file_extension": ".py",
   "mimetype": "text/x-python",
   "name": "python",
   "nbconvert_exporter": "python",
   "pygments_lexer": "ipython3",
   "version": "3.6.5"
  }
 },
 "nbformat": 4,
 "nbformat_minor": 1
}
