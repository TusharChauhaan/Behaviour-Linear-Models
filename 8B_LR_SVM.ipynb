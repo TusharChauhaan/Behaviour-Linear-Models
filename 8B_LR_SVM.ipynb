{
  "nbformat": 4,
  "nbformat_minor": 0,
  "metadata": {
    "kernelspec": {
      "display_name": "Python 3",
      "language": "python",
      "name": "python3"
    },
    "language_info": {
      "codemirror_mode": {
        "name": "ipython",
        "version": 3
      },
      "file_extension": ".py",
      "mimetype": "text/x-python",
      "name": "python",
      "nbconvert_exporter": "python",
      "pygments_lexer": "ipython3",
      "version": "3.6.8"
    },
    "colab": {
      "name": "8B_LR_SVM.ipynb",
      "provenance": [],
      "collapsed_sections": []
    }
  },
  "cells": [
    {
      "cell_type": "code",
      "metadata": {
        "id": "8ArWK463kbhL",
        "outputId": "b0c6f517-af03-4eb0-d18c-832ace4d75dc",
        "colab": {
          "base_uri": "https://localhost:8080/",
          "height": 17
        }
      },
      "source": [
        "import numpy as np\n",
        "import pandas as pd\n",
        "import plotly\n",
        "import plotly.figure_factory as ff\n",
        "import plotly.graph_objs as go\n",
        "from sklearn.linear_model import LogisticRegression\n",
        "from sklearn.preprocessing import StandardScaler\n",
        "from sklearn.preprocessing import MinMaxScaler\n",
        "from plotly.offline import download_plotlyjs, init_notebook_mode, plot, iplot\n",
        "init_notebook_mode(connected=True)"
      ],
      "execution_count": null,
      "outputs": [
        {
          "output_type": "display_data",
          "data": {
            "text/html": [
              "        <script type=\"text/javascript\">\n",
              "        window.PlotlyConfig = {MathJaxConfig: 'local'};\n",
              "        if (window.MathJax) {MathJax.Hub.Config({SVG: {font: \"STIX-Web\"}});}\n",
              "        if (typeof require !== 'undefined') {\n",
              "        require.undef(\"plotly\");\n",
              "        requirejs.config({\n",
              "            paths: {\n",
              "                'plotly': ['https://cdn.plot.ly/plotly-latest.min']\n",
              "            }\n",
              "        });\n",
              "        require(['plotly'], function(Plotly) {\n",
              "            window._Plotly = Plotly;\n",
              "        });\n",
              "        }\n",
              "        </script>\n",
              "        "
            ]
          },
          "metadata": {}
        }
      ]
    },
    {
      "cell_type": "code",
      "metadata": {
        "id": "5mldzJdakbhS"
      },
      "source": [
        "data = pd.read_csv('task_b.csv')\n",
        "data=data.iloc[:,1:]"
      ],
      "execution_count": null,
      "outputs": []
    },
    {
      "cell_type": "code",
      "metadata": {
        "scrolled": true,
        "id": "rsCrC2wckbhV",
        "outputId": "0064271a-1e9d-4ca6-c37b-94cae1fa1095",
        "colab": {
          "base_uri": "https://localhost:8080/",
          "height": 206
        }
      },
      "source": [
        "data.head()"
      ],
      "execution_count": null,
      "outputs": [
        {
          "output_type": "execute_result",
          "data": {
            "text/html": [
              "\n",
              "  <div id=\"df-ad9bafb8-8e90-462f-8bac-f0d25595f188\">\n",
              "    <div class=\"colab-df-container\">\n",
              "      <div>\n",
              "<style scoped>\n",
              "    .dataframe tbody tr th:only-of-type {\n",
              "        vertical-align: middle;\n",
              "    }\n",
              "\n",
              "    .dataframe tbody tr th {\n",
              "        vertical-align: top;\n",
              "    }\n",
              "\n",
              "    .dataframe thead th {\n",
              "        text-align: right;\n",
              "    }\n",
              "</style>\n",
              "<table border=\"1\" class=\"dataframe\">\n",
              "  <thead>\n",
              "    <tr style=\"text-align: right;\">\n",
              "      <th></th>\n",
              "      <th>f1</th>\n",
              "      <th>f2</th>\n",
              "      <th>f3</th>\n",
              "      <th>y</th>\n",
              "    </tr>\n",
              "  </thead>\n",
              "  <tbody>\n",
              "    <tr>\n",
              "      <th>0</th>\n",
              "      <td>-195.871045</td>\n",
              "      <td>-14843.084171</td>\n",
              "      <td>5.532140</td>\n",
              "      <td>1.0</td>\n",
              "    </tr>\n",
              "    <tr>\n",
              "      <th>1</th>\n",
              "      <td>-1217.183964</td>\n",
              "      <td>-4068.124621</td>\n",
              "      <td>4.416082</td>\n",
              "      <td>1.0</td>\n",
              "    </tr>\n",
              "    <tr>\n",
              "      <th>2</th>\n",
              "      <td>9.138451</td>\n",
              "      <td>4413.412028</td>\n",
              "      <td>0.425317</td>\n",
              "      <td>0.0</td>\n",
              "    </tr>\n",
              "    <tr>\n",
              "      <th>3</th>\n",
              "      <td>363.824242</td>\n",
              "      <td>15474.760647</td>\n",
              "      <td>1.094119</td>\n",
              "      <td>0.0</td>\n",
              "    </tr>\n",
              "    <tr>\n",
              "      <th>4</th>\n",
              "      <td>-768.812047</td>\n",
              "      <td>-7963.932192</td>\n",
              "      <td>1.870536</td>\n",
              "      <td>0.0</td>\n",
              "    </tr>\n",
              "  </tbody>\n",
              "</table>\n",
              "</div>\n",
              "      <button class=\"colab-df-convert\" onclick=\"convertToInteractive('df-ad9bafb8-8e90-462f-8bac-f0d25595f188')\"\n",
              "              title=\"Convert this dataframe to an interactive table.\"\n",
              "              style=\"display:none;\">\n",
              "        \n",
              "  <svg xmlns=\"http://www.w3.org/2000/svg\" height=\"24px\"viewBox=\"0 0 24 24\"\n",
              "       width=\"24px\">\n",
              "    <path d=\"M0 0h24v24H0V0z\" fill=\"none\"/>\n",
              "    <path d=\"M18.56 5.44l.94 2.06.94-2.06 2.06-.94-2.06-.94-.94-2.06-.94 2.06-2.06.94zm-11 1L8.5 8.5l.94-2.06 2.06-.94-2.06-.94L8.5 2.5l-.94 2.06-2.06.94zm10 10l.94 2.06.94-2.06 2.06-.94-2.06-.94-.94-2.06-.94 2.06-2.06.94z\"/><path d=\"M17.41 7.96l-1.37-1.37c-.4-.4-.92-.59-1.43-.59-.52 0-1.04.2-1.43.59L10.3 9.45l-7.72 7.72c-.78.78-.78 2.05 0 2.83L4 21.41c.39.39.9.59 1.41.59.51 0 1.02-.2 1.41-.59l7.78-7.78 2.81-2.81c.8-.78.8-2.07 0-2.86zM5.41 20L4 18.59l7.72-7.72 1.47 1.35L5.41 20z\"/>\n",
              "  </svg>\n",
              "      </button>\n",
              "      \n",
              "  <style>\n",
              "    .colab-df-container {\n",
              "      display:flex;\n",
              "      flex-wrap:wrap;\n",
              "      gap: 12px;\n",
              "    }\n",
              "\n",
              "    .colab-df-convert {\n",
              "      background-color: #E8F0FE;\n",
              "      border: none;\n",
              "      border-radius: 50%;\n",
              "      cursor: pointer;\n",
              "      display: none;\n",
              "      fill: #1967D2;\n",
              "      height: 32px;\n",
              "      padding: 0 0 0 0;\n",
              "      width: 32px;\n",
              "    }\n",
              "\n",
              "    .colab-df-convert:hover {\n",
              "      background-color: #E2EBFA;\n",
              "      box-shadow: 0px 1px 2px rgba(60, 64, 67, 0.3), 0px 1px 3px 1px rgba(60, 64, 67, 0.15);\n",
              "      fill: #174EA6;\n",
              "    }\n",
              "\n",
              "    [theme=dark] .colab-df-convert {\n",
              "      background-color: #3B4455;\n",
              "      fill: #D2E3FC;\n",
              "    }\n",
              "\n",
              "    [theme=dark] .colab-df-convert:hover {\n",
              "      background-color: #434B5C;\n",
              "      box-shadow: 0px 1px 3px 1px rgba(0, 0, 0, 0.15);\n",
              "      filter: drop-shadow(0px 1px 2px rgba(0, 0, 0, 0.3));\n",
              "      fill: #FFFFFF;\n",
              "    }\n",
              "  </style>\n",
              "\n",
              "      <script>\n",
              "        const buttonEl =\n",
              "          document.querySelector('#df-ad9bafb8-8e90-462f-8bac-f0d25595f188 button.colab-df-convert');\n",
              "        buttonEl.style.display =\n",
              "          google.colab.kernel.accessAllowed ? 'block' : 'none';\n",
              "\n",
              "        async function convertToInteractive(key) {\n",
              "          const element = document.querySelector('#df-ad9bafb8-8e90-462f-8bac-f0d25595f188');\n",
              "          const dataTable =\n",
              "            await google.colab.kernel.invokeFunction('convertToInteractive',\n",
              "                                                     [key], {});\n",
              "          if (!dataTable) return;\n",
              "\n",
              "          const docLinkHtml = 'Like what you see? Visit the ' +\n",
              "            '<a target=\"_blank\" href=https://colab.research.google.com/notebooks/data_table.ipynb>data table notebook</a>'\n",
              "            + ' to learn more about interactive tables.';\n",
              "          element.innerHTML = '';\n",
              "          dataTable['output_type'] = 'display_data';\n",
              "          await google.colab.output.renderOutput(dataTable, element);\n",
              "          const docLink = document.createElement('div');\n",
              "          docLink.innerHTML = docLinkHtml;\n",
              "          element.appendChild(docLink);\n",
              "        }\n",
              "      </script>\n",
              "    </div>\n",
              "  </div>\n",
              "  "
            ],
            "text/plain": [
              "            f1            f2        f3    y\n",
              "0  -195.871045 -14843.084171  5.532140  1.0\n",
              "1 -1217.183964  -4068.124621  4.416082  1.0\n",
              "2     9.138451   4413.412028  0.425317  0.0\n",
              "3   363.824242  15474.760647  1.094119  0.0\n",
              "4  -768.812047  -7963.932192  1.870536  0.0"
            ]
          },
          "metadata": {},
          "execution_count": 42
        }
      ]
    },
    {
      "cell_type": "code",
      "metadata": {
        "id": "FI18joJ_kbhZ",
        "outputId": "7145ee7c-7a3e-49d3-c78a-5d5f2a551629",
        "colab": {
          "base_uri": "https://localhost:8080/"
        }
      },
      "source": [
        "data.corr()['y']"
      ],
      "execution_count": null,
      "outputs": [
        {
          "output_type": "execute_result",
          "data": {
            "text/plain": [
              "f1    0.067172\n",
              "f2   -0.017944\n",
              "f3    0.839060\n",
              "y     1.000000\n",
              "Name: y, dtype: float64"
            ]
          },
          "metadata": {},
          "execution_count": 43
        }
      ]
    },
    {
      "cell_type": "code",
      "metadata": {
        "scrolled": true,
        "id": "u40oCVMikbhc",
        "outputId": "416a84b3-9090-4ab6-c03f-87f5720ab07b",
        "colab": {
          "base_uri": "https://localhost:8080/"
        }
      },
      "source": [
        "data.std()"
      ],
      "execution_count": null,
      "outputs": [
        {
          "output_type": "execute_result",
          "data": {
            "text/plain": [
              "f1      488.195035\n",
              "f2    10403.417325\n",
              "f3        2.926662\n",
              "y         0.501255\n",
              "dtype: float64"
            ]
          },
          "metadata": {},
          "execution_count": 44
        }
      ]
    },
    {
      "cell_type": "code",
      "metadata": {
        "id": "yQIbNaHskbhe",
        "outputId": "3d7eb490-1535-46b9-a616-b987ec5eb2f5",
        "colab": {
          "base_uri": "https://localhost:8080/"
        }
      },
      "source": [
        "X=data[['f1','f2','f3']].values\n",
        "Y=data['y'].values\n",
        "print(X.shape)\n",
        "print(Y.shape)"
      ],
      "execution_count": null,
      "outputs": [
        {
          "output_type": "stream",
          "name": "stdout",
          "text": [
            "(200, 3)\n",
            "(200,)\n"
          ]
        }
      ]
    },
    {
      "cell_type": "markdown",
      "metadata": {
        "id": "aUxp9-qEkbhh"
      },
      "source": [
        "# What if our features are with different variance \n",
        "\n",
        "<pre>\n",
        "* <b>As part of this task you will observe how linear models work in case of data having feautres with different variance</b>\n",
        "* <b>from the output of the above cells you can observe that var(F2)>>var(F1)>>Var(F3)</b>\n",
        "\n",
        "> <b>Task1</b>:\n",
        "    1. Apply Logistic regression(SGDClassifier with logloss) on 'data' and check the feature importance\n",
        "    2. Apply SVM(SGDClassifier with hinge) on 'data' and check the feature importance\n",
        "\n",
        "> <b>Task2</b>:\n",
        "    1. Apply Logistic regression(SGDClassifier with logloss) on 'data' after standardization \n",
        "       i.e standardization(data, column wise): (column-mean(column))/std(column) and check the feature importance\n",
        "    2. Apply SVM(SGDClassifier with hinge) on 'data' after standardization \n",
        "       i.e standardization(data, column wise): (column-mean(column))/std(column) and check the feature importance\n",
        "\n",
        "</pre>"
      ]
    },
    {
      "cell_type": "code",
      "source": [
        "clf_logistic = LogisticRegression(penalty='l2')\n",
        "clf_logistic.fit(X,Y)"
      ],
      "metadata": {
        "colab": {
          "base_uri": "https://localhost:8080/"
        },
        "id": "BrjsYAKPDVCX",
        "outputId": "376713aa-84eb-4ea2-ab7d-28580822ed3b"
      },
      "execution_count": null,
      "outputs": [
        {
          "output_type": "execute_result",
          "data": {
            "text/plain": [
              "LogisticRegression()"
            ]
          },
          "metadata": {},
          "execution_count": 46
        }
      ]
    },
    {
      "cell_type": "code",
      "source": [
        "mean_score= clf_logistic.score(X,Y)"
      ],
      "metadata": {
        "id": "qGdl1a3rD9B8"
      },
      "execution_count": null,
      "outputs": []
    },
    {
      "cell_type": "code",
      "source": [
        "featureImportance= clf_logistic.coef_[0]"
      ],
      "metadata": {
        "id": "EiWdJk_NE5x7"
      },
      "execution_count": null,
      "outputs": []
    },
    {
      "cell_type": "markdown",
      "source": [
        ""
      ],
      "metadata": {
        "id": "11hD5meFbDIJ"
      }
    },
    {
      "cell_type": "code",
      "source": [
        "print(\"Below are the results which we have got\")\n",
        "print(\"Accuracy of Logistic Regression is \",mean_score)\n",
        "for id in range(featureImportance.size):\n",
        "  print(f\"f{id} has coefficient value of {abs(featureImportance[id])}\")"
      ],
      "metadata": {
        "colab": {
          "base_uri": "https://localhost:8080/"
        },
        "id": "hRj8C6q4FHan",
        "outputId": "90dfc6de-7057-4e4f-bc98-87eca76cb2e0"
      },
      "execution_count": null,
      "outputs": [
        {
          "output_type": "stream",
          "name": "stdout",
          "text": [
            "Below are the results which we have got\n",
            "Accuracy of Logistic Regression is  0.93\n",
            "f0 has coefficient value of 0.0008896381130511962\n",
            "f1 has coefficient value of 1.0416946094804762e-05\n",
            "f2 has coefficient value of 1.9566801565320402\n"
          ]
        }
      ]
    },
    {
      "cell_type": "code",
      "source": [
        "# SVM classfier\n",
        "from sklearn.svm import LinearSVC\n",
        "clf_LinearSVM = LinearSVC(penalty='l2', loss='hinge', max_iter=100000, tol=10e-5)"
      ],
      "metadata": {
        "id": "GuoWenDYRNo9"
      },
      "execution_count": null,
      "outputs": []
    },
    {
      "cell_type": "code",
      "source": [
        "clf_LinearSVM.fit(X,Y)"
      ],
      "metadata": {
        "colab": {
          "base_uri": "https://localhost:8080/"
        },
        "id": "1HV4V5aeRvE3",
        "outputId": "4c73fa25-8131-48ef-8398-835e38ea3443"
      },
      "execution_count": null,
      "outputs": [
        {
          "output_type": "stream",
          "name": "stderr",
          "text": [
            "/usr/local/lib/python3.7/dist-packages/sklearn/svm/_base.py:1208: ConvergenceWarning:\n",
            "\n",
            "Liblinear failed to converge, increase the number of iterations.\n",
            "\n"
          ]
        },
        {
          "output_type": "execute_result",
          "data": {
            "text/plain": [
              "LinearSVC(loss='hinge', max_iter=100000)"
            ]
          },
          "metadata": {},
          "execution_count": 51
        }
      ]
    },
    {
      "cell_type": "code",
      "source": [
        "mean_score = clf_LinearSVM.score(X,Y)"
      ],
      "metadata": {
        "id": "qvv9AEKpRzXb"
      },
      "execution_count": null,
      "outputs": []
    },
    {
      "cell_type": "code",
      "source": [
        "featureImportance = clf_LinearSVM.coef_[0]"
      ],
      "metadata": {
        "id": "yQqtwHf-WAw4"
      },
      "execution_count": null,
      "outputs": []
    },
    {
      "cell_type": "code",
      "source": [
        "print(\"Below are the results which we have got\")\n",
        "print(\"Accuracy of Logistic Regression is \",mean_score)\n",
        "for id in range(featureImportance.size):\n",
        "  print(f\"f{id} has coefficient value of {abs(featureImportance[id])}\")"
      ],
      "metadata": {
        "colab": {
          "base_uri": "https://localhost:8080/"
        },
        "id": "iTiF22AuWMhW",
        "outputId": "3fcdc3d9-cc6f-4318-92e9-7d37e95cc903"
      },
      "execution_count": null,
      "outputs": [
        {
          "output_type": "stream",
          "name": "stdout",
          "text": [
            "Below are the results which we have got\n",
            "Accuracy of Logistic Regression is  0.82\n",
            "f0 has coefficient value of 0.00013121116182661445\n",
            "f1 has coefficient value of 9.290952865687918e-06\n",
            "f2 has coefficient value of 0.19403950783809396\n"
          ]
        }
      ]
    },
    {
      "cell_type": "markdown",
      "source": [
        "Observation From Experiment 1 \n",
        "\n",
        "1.   In addition to fitting well, logistic regression is also accurate.\n",
        "2.   More than 100000 iterations of SVM linear with hinge loss failed to converge.\n",
        "3.   Classifier behavior is affected by the high variance of data.\n",
        "4.   Feature importance is more evenly divided in linear regression comparison to svm.\n"
      ],
      "metadata": {
        "id": "n773CNPPWuWB"
      }
    },
    {
      "cell_type": "code",
      "source": [
        "# Scale the feature to zero mean Unit variance\n",
        "ss = StandardScaler()\n",
        "X = ss.fit_transform(X)"
      ],
      "metadata": {
        "id": "la4lyFlZX8kg"
      },
      "execution_count": null,
      "outputs": []
    },
    {
      "cell_type": "code",
      "source": [
        "# Logistic Regression on Standaradized data\n",
        "clf_logistic_ss = LogisticRegression(penalty='l2')"
      ],
      "metadata": {
        "id": "mcrm8cMiYBuK"
      },
      "execution_count": null,
      "outputs": []
    },
    {
      "cell_type": "code",
      "source": [
        "clf_logistic_ss.fit(X,Y)"
      ],
      "metadata": {
        "colab": {
          "base_uri": "https://localhost:8080/"
        },
        "id": "oxTZswilYubz",
        "outputId": "99dc5b5c-0b18-4134-d1e1-0761176dcb42"
      },
      "execution_count": null,
      "outputs": [
        {
          "output_type": "execute_result",
          "data": {
            "text/plain": [
              "LogisticRegression()"
            ]
          },
          "metadata": {},
          "execution_count": 57
        }
      ]
    },
    {
      "cell_type": "code",
      "source": [
        "# Feature importance\n",
        "featureImportance_standard = clf_logistic_ss.coef_[0]"
      ],
      "metadata": {
        "id": "2dAGcOL4ZNwa"
      },
      "execution_count": null,
      "outputs": []
    },
    {
      "cell_type": "code",
      "source": [
        "mean_score_stanrard = clf_logistic_ss.score(X,Y)"
      ],
      "metadata": {
        "id": "HGxsi-klY03B"
      },
      "execution_count": null,
      "outputs": []
    },
    {
      "cell_type": "code",
      "source": [
        "print(\"Below are the results which we have got\")\n",
        "print(\"Accuracy of Logistic Regression is \",mean_score_stanrard)\n",
        "for id in range(featureImportance.size):\n",
        "  print(f\"f{id} has coefficient value of {abs(featureImportance[id])}\")"
      ],
      "metadata": {
        "colab": {
          "base_uri": "https://localhost:8080/"
        },
        "id": "LLiPogfDZBez",
        "outputId": "11620325-501f-47e3-9927-a9d1d89a1131"
      },
      "execution_count": null,
      "outputs": [
        {
          "output_type": "stream",
          "name": "stdout",
          "text": [
            "Below are the results which we have got\n",
            "Accuracy of Logistic Regression is  0.93\n",
            "f0 has coefficient value of 0.00013121116182661445\n",
            "f1 has coefficient value of 9.290952865687918e-06\n",
            "f2 has coefficient value of 0.19403950783809396\n"
          ]
        }
      ]
    },
    {
      "cell_type": "code",
      "source": [
        "# Run Same Experiment on SVM\n",
        "# SVM classfier\n",
        "svmLinear_standard = LinearSVC(penalty='l2', loss='hinge', max_iter=300, tol=10e-5)\n",
        "svmLinear_standard.fit(X,Y)\n",
        "score_svm_standard = svmLinear_standard.score(X,Y)\n",
        "featureImportance = svmLinear_standard.coef_[0]"
      ],
      "metadata": {
        "id": "W5eR9mIUZlnW"
      },
      "execution_count": null,
      "outputs": []
    },
    {
      "cell_type": "code",
      "source": [
        "print(\"Below are the results which we have got\")\n",
        "print(\"Accuracy of Logistic Regression is \",score_svm_standard)\n",
        "for id in range(featureImportance.size):\n",
        "  print(f\"f{id} has coefficient value of {abs(featureImportance[id])}\")"
      ],
      "metadata": {
        "colab": {
          "base_uri": "https://localhost:8080/"
        },
        "id": "IHuPuymoZ9nq",
        "outputId": "64232e62-c928-40ba-bc7f-37d97d911e43"
      },
      "execution_count": null,
      "outputs": [
        {
          "output_type": "stream",
          "name": "stdout",
          "text": [
            "Below are the results which we have got\n",
            "Accuracy of Logistic Regression is  0.925\n",
            "f0 has coefficient value of 0.21573733233050676\n",
            "f1 has coefficient value of 0.0752051991613595\n",
            "f2 has coefficient value of 2.933692852911257\n"
          ]
        }
      ]
    },
    {
      "cell_type": "markdown",
      "source": [
        "Observation from Experiment 2\n",
        "\n",
        "\n",
        "1.   Logistic regression fits quiet well and accuracy is also good with standarized features.\n",
        "2.  In maximum 300 iterations, SVM converges.\n",
        "3. SVM Linear convergence was sped up after standardization as well as accuracy raised to 0.925.\n"
      ],
      "metadata": {
        "id": "NjatQ1wtecjO"
      }
    },
    {
      "cell_type": "markdown",
      "source": [
        "**Observation from Both Experiment**\n",
        "1. As for accuracy, it is also very good with and without standardization of the features in logistic regression.\n",
        "2. In SVM linear, variance of features in data seems to be highly sensitive. Therefore, standardizing the data helps overcome the high variance nature of the dataset and helps improve the classifier."
      ],
      "metadata": {
        "id": "-c95yuvxgw-t"
      }
    },
    {
      "cell_type": "markdown",
      "metadata": {
        "id": "TbMnsrxakbhi"
      },
      "source": [
        "<h3><font color='blue'> Make sure you write the observations for each task, why a particular feautre got more importance than others</font></h3>"
      ]
    }
  ]
}